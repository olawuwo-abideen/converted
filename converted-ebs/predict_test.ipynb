{
 "cells": [
  {
   "cell_type": "code",
   "execution_count": 1,
   "id": "1f83184b",
   "metadata": {},
   "outputs": [],
   "source": [
    "import requests"
   ]
  },
  {
   "cell_type": "code",
   "execution_count": 2,
   "id": "0154b0d6",
   "metadata": {},
   "outputs": [],
   "source": [
    "url = 'http://localhost:3000/predict'"
   ]
  },
  {
   "cell_type": "code",
   "execution_count": 3,
   "id": "ad73868d",
   "metadata": {},
   "outputs": [],
   "source": [
    "prospect_id = {\n",
    " \"lead_origin\": \"lead_add_form\",\n",
    " \"lead_source\": \"reference\",\n",
    " \"do_not_email\": \"no\",\n",
    " \"do_not_call\": \"no\",\n",
    " \"last_activity\": \"sms_sent\",\n",
    " \"country\": \"india\",\n",
    " \"specialization\": \"select\",\n",
    " \"how_did_you_hear_about_x_education\": \"select\",\n",
    " \"what_is_your_current_occupation\": \"unemployed\",\n",
    " \"what_matters_most_to_you_in_choosing_a_course\": \"better_career_prospects\",\n",
    " \"search\": \"no\",\n",
    " \"magazine\": \"no\",\n",
    " \"newspaper_article\": \"no\",\n",
    " \"digital_advertisement\": \"no\",\n",
    " \"through_recommendations\": \"no\",\n",
    " \"receive_more_updates_about_our_courses\": \"no\",\n",
    " \"tags\": \"will_revert_after_reading_the_email\",\n",
    " \"lead_quality\": \"might_be\",\n",
    " \"update_me_on_supply_chain_content\": \"no\",\n",
    " \"lead_profile\": \"select\",\n",
    " \"city\": \"select\",\n",
    " \"asymmetrique_activity_index\": \"02.medium\",\n",
    " \"asymmetrique_profile_index\": \"02.medium\",\n",
    " \"i_agree_to_pay_the_amount_through_cheque\": \"no\",\n",
    " \"a_free_copy_of_mastering_the_interview\": \"no\",\n",
    " \"last_notable_activity\": \"sms_sent\",\n",
    " \"newspaper\": \"no\",\n",
    " \"x_education_forums\": \"no\",\n",
    " \"get_updates_on_dm_content\": \"no\",\n",
    " \"lead_number\": 627173,\n",
    " \"totalvisits\": 0.0,\n",
    " \"total_time_spent_on_website\": 0,\n",
    " \"page_views_per_visit\": 0.0,\n",
    " \"asymmetrique_activity_score\": 14.306252489048187,\n",
    " \"asymmetrique_profile_score\": 16.344882516925527\n",
    "\n",
    "}"
   ]
  },
  {
   "cell_type": "code",
   "execution_count": 4,
   "id": "83e5359a",
   "metadata": {},
   "outputs": [
    {
     "data": {
      "text/plain": [
       "{'converted': False, 'converted_probability': 0.22954300457009927}"
      ]
     },
     "execution_count": 4,
     "metadata": {},
     "output_type": "execute_result"
    }
   ],
   "source": [
    "response = requests.post(url, json=prospect_id).json()\n",
    "response"
   ]
  },
  {
   "cell_type": "code",
   "execution_count": 5,
   "id": "73a1a2b3",
   "metadata": {},
   "outputs": [],
   "source": [
    "if response['converted'] == True:\n",
    "    print('sending message to % s' %('customer'))\n",
    "else:\n",
    "    print('sending message to % s' %('customer'))"
   ]
  },
  {
   "cell_type": "code",
   "execution_count": null,
   "id": "726c5c10",
   "metadata": {},
   "outputs": [],
   "source": []
  }
 ],
 "metadata": {
  "kernelspec": {
   "display_name": "Python 3 (ipykernel)",
   "language": "python",
   "name": "python3"
  },
  "language_info": {
   "codemirror_mode": {
    "name": "ipython",
    "version": 3
   },
   "file_extension": ".py",
   "mimetype": "text/x-python",
   "name": "python",
   "nbconvert_exporter": "python",
   "pygments_lexer": "ipython3",
   "version": "3.9.7"
  }
 },
 "nbformat": 4,
 "nbformat_minor": 5
}
